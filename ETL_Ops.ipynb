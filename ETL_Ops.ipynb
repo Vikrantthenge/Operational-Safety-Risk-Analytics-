{
 "cells": [
  {
   "cell_type": "code",
   "execution_count": null,
   "id": "49b6abdb-3742-4faf-b112-8dd4d8532c97",
   "metadata": {},
   "outputs": [],
   "source": [
    "from pyspark.sql.functions import when, col, lit\n",
    "\n",
    "# Step 1: Read raw CSV from Unity Catalog volume\n",
    "df_raw = (\n",
    "    spark.read.option(\"header\", True)\n",
    "              .option(\"inferSchema\", True)\n",
    "              .csv(\"dbfs:/Volumes/etl-pipeline/default/ops_data/sample_ops_data.csv\")\n",
    ")\n",
    "\n",
    "# Step 2: Transform data\n",
    "df_clean = (\n",
    "    df_raw.withColumn(\"incident_type\", when(col(\"incident_type\").isNull() | (col(\"incident_type\") == \"\"), lit(\"None\")).otherwise(col(\"incident_type\")))\n",
    "           .withColumn(\"delay_flag\", when(col(\"delay_minutes\") > 0, lit(\"Delayed\")).otherwise(lit(\"On time\")))\n",
    ")\n",
    "\n",
    "# Step 3: Save cleaned data as managed Unity Catalog table\n",
    "df_clean.write.mode(\"overwrite\").saveAsTable(\"`etl-pipeline`.default.sample_ops_data_cleaned\")\n",
    "\n",
    "# Step 4: Validation summary\n",
    "print(\"✅ Total Rows:\", df_clean.count())\n",
    "df_clean.groupBy(\"incident_type\").count().show()\n",
    "df_clean.groupBy(\"delay_flag\").count().show()"
   ]
  },
  {
   "cell_type": "code",
   "execution_count": null,
   "id": "89eab0a1-a34b-4f81-9517-1a39c53ce8af",
   "metadata": {},
   "outputs": [],
   "source": []
  }
 ],
 "metadata": {
  "kernelspec": {
   "display_name": "Python [conda env:base] *",
   "language": "python",
   "name": "conda-base-py"
  },
  "language_info": {
   "codemirror_mode": {
    "name": "ipython",
    "version": 3
   },
   "file_extension": ".py",
   "mimetype": "text/x-python",
   "name": "python",
   "nbconvert_exporter": "python",
   "pygments_lexer": "ipython3",
   "version": "3.12.7"
  }
 },
 "nbformat": 4,
 "nbformat_minor": 5
}
