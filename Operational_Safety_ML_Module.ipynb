{
 "cells": [
  {
   "cell_type": "code",
   "execution_count": null,
   "id": "c25db89e-7f55-478f-ad23-30b35b706f9f",
   "metadata": {},
   "outputs": [],
   "source": [
    "# 🚀 ML-Powered Risk Detection – Databricks\n",
    "\n",
    "## 1. Imports\n",
    "import pandas as pd\n",
    "from sklearn.model_selection import train_test_split\n",
    "from sklearn.ensemble import RandomForestClassifier\n",
    "from sklearn.metrics import classification_report\n",
    "\n",
    "## 2. Load CSV from Unity Catalog Volume\n",
    "df_spark = spark.read.option(\"header\", True).csv(\"dbfs:/Volumes/etl-pipeline/default/ops_data/sample_ops_data.csv\")\n",
    "df = df_spark.toPandas()\n",
    "\n",
    "## 3. Create Binary Target\n",
    "df['risk_flag'] = df['incident_t'].apply(lambda x: 1 if pd.notnull(x) and x.strip() != '' else 0)\n",
    "\n",
    "## 4. Feature Selection + Encoding\n",
    "features = ['delay_min', 'crew_id', 'aircraft_id', 'location']\n",
    "df_encoded = pd.get_dummies(df[features], drop_first=True)\n",
    "X = df_encoded\n",
    "y = df['risk_flag']\n",
    "\n",
    "## 5. Train-Test Split\n",
    "X_train, X_test, y_train, y_test = train_test_split(X, y, test_size=0.2, random_state=42)\n",
    "\n",
    "## 6. Train Model with Class Imbalance Handling\n",
    "model = RandomForestClassifier(n_estimators=200, max_depth=10, class_weight='balanced', random_state=42)\n",
    "model.fit(X_train, y_train)\n",
    "\n",
    "## 7. Evaluate Model\n",
    "y_pred = model.predict(X_test)\n",
    "print(classification_report(y_test, y_pred))\n",
    "\n",
    "## 8. Save Predictions to Delta Table\n",
    "df['predicted_risk'] = model.predict(X)\n",
    "df_spark_out = spark.createDataFrame(df)\n",
    "df_spark_out.write.format(\"delta\").mode(\"overwrite\").saveAsTable(\"`etl-pipeline`.default.predicted_risk_output\")"
   ]
  }
 ],
 "metadata": {
  "kernelspec": {
   "display_name": "Python [conda env:base] *",
   "language": "python",
   "name": "conda-base-py"
  },
  "language_info": {
   "codemirror_mode": {
    "name": "ipython",
    "version": 3
   },
   "file_extension": ".py",
   "mimetype": "text/x-python",
   "name": "python",
   "nbconvert_exporter": "python",
   "pygments_lexer": "ipython3",
   "version": "3.12.7"
  }
 },
 "nbformat": 4,
 "nbformat_minor": 5
}
